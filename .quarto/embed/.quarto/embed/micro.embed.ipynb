{
 "cells": [
  {
   "cell_type": "markdown",
   "metadata": {},
   "source": [
    "# GWAS 教程\n",
    "\n",
    "JAYZ (The University OF Myself)"
   ],
   "id": "b5f31954-635a-48c2-9e21-092ee0ee2b32"
  }
 ],
 "nbformat": 4,
 "nbformat_minor": 5,
 "metadata": {}
}
